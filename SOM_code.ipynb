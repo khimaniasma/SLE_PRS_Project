{
 "cells": [
  {
   "cell_type": "code",
   "execution_count": 164,
   "metadata": {},
   "outputs": [],
   "source": [
    "import matplotlib.pyplot as plt\n",
    "import numpy as np\n",
    "import pandas as pd\n",
    "import seaborn as sns\n",
    "from minisom import MiniSom\n",
    "\n",
    "from sklearn.preprocessing import MinMaxScaler\n",
    "from sklearn.cluster import KMeans\n",
    "from sklearn.decomposition import PCA"
   ]
  },
  {
   "cell_type": "code",
   "execution_count": 165,
   "metadata": {},
   "outputs": [],
   "source": [
    "# load dataset\n",
    "data_file_path = '/Users/asmakhimani/Downloads/systemic lupus_Dataset_Team_ML.csv'\n",
    "data = pd.read_csv(data_file_path)"
   ]
  },
  {
   "cell_type": "code",
   "execution_count": 166,
   "metadata": {},
   "outputs": [
    {
     "name": "stdout",
     "output_type": "stream",
     "text": [
      "        ID  Ancestry_African  Ancestry_Any other Asian background  \\\n",
      "0  5713894               0.0                                  0.0   \n",
      "1  2048882               0.0                                  0.0   \n",
      "2  1748132               0.0                                  0.0   \n",
      "3  3772083               0.0                                  0.0   \n",
      "4  4376107               0.0                                  0.0   \n",
      "\n",
      "   Ancestry_Any other Black background  Ancestry_Any other mixed background  \\\n",
      "0                                  0.0                                  0.0   \n",
      "1                                  0.0                                  0.0   \n",
      "2                                  0.0                                  0.0   \n",
      "3                                  0.0                                  0.0   \n",
      "4                                  0.0                                  0.0   \n",
      "\n",
      "   Ancestry_Any other white background  Ancestry_Asian or Asian British  \\\n",
      "0                                  0.0                              0.0   \n",
      "1                                  0.0                              0.0   \n",
      "2                                  0.0                              0.0   \n",
      "3                                  0.0                              0.0   \n",
      "4                                  1.0                              0.0   \n",
      "\n",
      "   Ancestry_Bangladeshi  Ancestry_Black or Black British  Ancestry_British  \\\n",
      "0                   0.0                              0.0               1.0   \n",
      "1                   0.0                              0.0               1.0   \n",
      "2                   0.0                              0.0               1.0   \n",
      "3                   0.0                              0.0               1.0   \n",
      "4                   0.0                              0.0               0.0   \n",
      "\n",
      "   ...  f.1558.0.0_Daily or almost daily  f.1558.0.0_Never  \\\n",
      "0  ...                               0.0               1.0   \n",
      "1  ...                               0.0               0.0   \n",
      "2  ...                               0.0               0.0   \n",
      "3  ...                               0.0               0.0   \n",
      "4  ...                               0.0               0.0   \n",
      "\n",
      "   f.1558.0.0_Once or twice a week  f.1558.0.0_One to three times a month  \\\n",
      "0                              0.0                                    0.0   \n",
      "1                              0.0                                    1.0   \n",
      "2                              0.0                                    0.0   \n",
      "3                              1.0                                    0.0   \n",
      "4                              0.0                                    0.0   \n",
      "\n",
      "   f.1558.0.0_Prefer not to answer  f.1558.0.0_Special occasions only  \\\n",
      "0                              0.0                                0.0   \n",
      "1                              0.0                                0.0   \n",
      "2                              0.0                                0.0   \n",
      "3                              0.0                                0.0   \n",
      "4                              0.0                                1.0   \n",
      "\n",
      "   f.1558.0.0_Three or four times a week  f.6177.0.0_Insulin  f.31.0.0_Female  \\\n",
      "0                                    0.0                 0.0              0.0   \n",
      "1                                    0.0                 0.0              1.0   \n",
      "2                                    1.0                 0.0              1.0   \n",
      "3                                    0.0                 0.0              0.0   \n",
      "4                                    0.0                 0.0              1.0   \n",
      "\n",
      "   f.31.0.0_Male  \n",
      "0            1.0  \n",
      "1            0.0  \n",
      "2            0.0  \n",
      "3            1.0  \n",
      "4            0.0  \n",
      "\n",
      "[5 rows x 56 columns]\n"
     ]
    }
   ],
   "source": [
    "# preview dataset \n",
    "print(data.head())"
   ]
  },
  {
   "cell_type": "code",
   "execution_count": 167,
   "metadata": {},
   "outputs": [],
   "source": [
    "# filter for british ancestry \n",
    "data = data[data['Ancestry_British'] == 1]"
   ]
  },
  {
   "cell_type": "code",
   "execution_count": 168,
   "metadata": {},
   "outputs": [
    {
     "data": {
      "text/plain": [
       "442574"
      ]
     },
     "execution_count": 168,
     "metadata": {},
     "output_type": "execute_result"
    }
   ],
   "source": [
    "# how many british ancestry patients\n",
    "int(data['Ancestry_British'].sum())"
   ]
  },
  {
   "cell_type": "code",
   "execution_count": 169,
   "metadata": {},
   "outputs": [],
   "source": [
    "# drop nan values from data\n",
    "data = data.dropna()"
   ]
  },
  {
   "cell_type": "code",
   "execution_count": 170,
   "metadata": {},
   "outputs": [],
   "source": [
    "# rename columns \n",
    "\n",
    "column_renames = {\n",
    "    'f.21022.0.0': 'Age',\n",
    "    'f.21001.0.0': 'BMI',\n",
    "    'f.31.0.0_Female': 'Female',\n",
    "    'f.31.0.0_Male': 'Male',\n",
    "    'f.20116.0.0_Current': 'Current Smoker',\n",
    "    'f.20116.0.0_Previous': 'Former Smoker',\n",
    "    'f.20116.0.0_Never': 'Never Smoker',\n",
    "    'f.20116.0.0_Prefer not to answer': 'Unknown Smoking Status',\n",
    "    'f.6145_Death of a close relative': 'Death of Family Member',\n",
    "    'f.6145_Serious illness, injury or assault to yourself': 'Serious illness, injury or assault to yourself',\n",
    "    'f.6145_Serious illness, injury or assault of a close relative': 'Serious illness, injury or assault of a close relative',\n",
    "    'f.6145_Financial difficulties': 'Financial difficulties',\n",
    "    'f.6145_Marital separation/divorce': 'Marital separation/divorce',\n",
    "    'f.6145_Death of a spouse or partner': 'Death of a spouse or partner',\n",
    "    'f.6145_None of the above': 'No Stress',\n",
    "    'f.6145_Prefer not to answer': 'Unknown Stress Status',\n",
    "    'f.1558.0.0_Daily or almost daily': 'Daily Alcohol Consumption',\n",
    "    'f.1558.0.0_Never': 'No Alcohol Consumption',\n",
    "    'f.1558.0.0_Once or twice a week': 'Once or Twice a Week Alcohol Consumption',\n",
    "    'f.1558.0.0_One to three times a month': 'One to Three Times a Month Alcohol Consumption',\n",
    "    'f.1558.0.0_Prefer not to answer': 'Unknown Alcohol Consumption',\n",
    "    'f.1558.0.0_Special occasions only': 'Occasional Alcohol Consumption',\n",
    "    'f.1558.0.0_Three or four times a week': 'Three or Four Times a week Alcohol Consumption',\n",
    "    'f.904.0.0': 'Number of Days of Physical Activity',\n",
    "    'f.904.0.0_Do not know': 'Not known Physical Activity Status',\n",
    "    'f.904.0.0_Prefer not to answer': 'Not Answered Physical Activity Status',\n",
    "    'f.20107_Father_Bowel cancer' : 'Father has Bowel Cancer',\n",
    "    'f.20107_Father_Diabetes': 'Father has Diabetes',\n",
    "    'f.20110_Mother_Bowel cancer': 'Mother has Bowel Cancer',\n",
    "    'f.20110_Mother_Diabetes': 'Mother has Diabetes'\n",
    "}"
   ]
  },
  {
   "cell_type": "code",
   "execution_count": 171,
   "metadata": {},
   "outputs": [
    {
     "name": "stdout",
     "output_type": "stream",
     "text": [
      "    Age    BMI  Female  Male  Current Smoker  Former Smoker  Never Smoker  \\\n",
      "0  60.0  34.31     0.0   1.0             0.0            0.0           1.0   \n",
      "1  54.0  22.62     1.0   0.0             0.0            0.0           1.0   \n",
      "2  64.0  23.18     1.0   0.0             0.0            0.0           1.0   \n",
      "3  47.0  23.54     0.0   1.0             0.0            0.0           1.0   \n",
      "5  68.0  24.65     1.0   0.0             0.0            0.0           1.0   \n",
      "\n",
      "   Unknown Smoking Status  Death of Family Member  \\\n",
      "0                     0.0                     1.0   \n",
      "1                     0.0                     1.0   \n",
      "2                     0.0                     0.0   \n",
      "3                     0.0                     0.0   \n",
      "5                     0.0                     1.0   \n",
      "\n",
      "   Serious illness, injury or assault to yourself  ...  \\\n",
      "0                                             0.0  ...   \n",
      "1                                             0.0  ...   \n",
      "2                                             0.0  ...   \n",
      "3                                             0.0  ...   \n",
      "5                                             0.0  ...   \n",
      "\n",
      "   Unknown Alcohol Consumption  Occasional Alcohol Consumption  \\\n",
      "0                          0.0                             0.0   \n",
      "1                          0.0                             0.0   \n",
      "2                          0.0                             0.0   \n",
      "3                          0.0                             0.0   \n",
      "5                          0.0                             0.0   \n",
      "\n",
      "   Three or Four Times a week Alcohol Consumption  \\\n",
      "0                                             0.0   \n",
      "1                                             0.0   \n",
      "2                                             1.0   \n",
      "3                                             0.0   \n",
      "5                                             0.0   \n",
      "\n",
      "   Number of Days of Physical Activity  Not known Physical Activity Status  \\\n",
      "0                                  0.0                                 0.0   \n",
      "1                                  0.0                                 0.0   \n",
      "2                                  5.0                                 0.0   \n",
      "3                                  3.0                                 0.0   \n",
      "5                                  3.0                                 0.0   \n",
      "\n",
      "   Not Answered Physical Activity Status  Father has Bowel Cancer  \\\n",
      "0                                    0.0                      0.0   \n",
      "1                                    0.0                      0.0   \n",
      "2                                    0.0                      0.0   \n",
      "3                                    0.0                      0.0   \n",
      "5                                    0.0                      0.0   \n",
      "\n",
      "   Father has Diabetes  Mother has Bowel Cancer  Mother has Diabetes  \n",
      "0                  0.0                      1.0                  0.0  \n",
      "1                  1.0                      0.0                  0.0  \n",
      "2                  0.0                      0.0                  0.0  \n",
      "3                  0.0                      0.0                  0.0  \n",
      "5                  0.0                      0.0                  0.0  \n",
      "\n",
      "[5 rows x 30 columns]\n"
     ]
    }
   ],
   "source": [
    "# only keep renamed columns in dataframe\n",
    "columns_to_keep = column_renames.keys()\n",
    "data = data[columns_to_keep]\n",
    "data = data.rename(columns=column_renames)\n",
    "print(data.head())"
   ]
  },
  {
   "cell_type": "code",
   "execution_count": 172,
   "metadata": {},
   "outputs": [],
   "source": [
    "# combine smoking related columns into a single feature\n",
    "def combine_smoking_status(row):\n",
    "    if row['Current Smoker'] == 1:\n",
    "        return 3\n",
    "    elif row['Former Smoker'] == 1:\n",
    "        return 2\n",
    "    elif row['Never Smoker'] == 1:\n",
    "        return 1\n",
    "    else:  # unknown or prefer not to answer\n",
    "        return 0\n",
    "\n",
    "data['Smoking_Status'] = data.apply(combine_smoking_status, axis=1)"
   ]
  },
  {
   "cell_type": "code",
   "execution_count": 173,
   "metadata": {},
   "outputs": [],
   "source": [
    "# stress feature \n",
    "\n",
    "def combine_stress_binary(row):\n",
    "    # check if any stress-related column is marked\n",
    "    if (\n",
    "        row['Death of Family Member'] == 1 or\n",
    "        row['Serious illness, injury or assault to yourself'] == 1 or\n",
    "        row['Serious illness, injury or assault of a close relative'] == 1 or\n",
    "        row['Financial difficulties'] == 1 or\n",
    "        row['Marital separation/divorce'] == 1 or\n",
    "        row['Death of a spouse or partner'] == 1\n",
    "    ):\n",
    "        return 1  # stress present\n",
    "    elif row['No Stress'] == 1:\n",
    "        return 0  # no stress\n",
    "    else:\n",
    "        return 0  # no stress if unknown or missing\n",
    "    \n",
    "data['Stress'] = data.apply(combine_stress_binary, axis=1)"
   ]
  },
  {
   "cell_type": "code",
   "execution_count": 174,
   "metadata": {},
   "outputs": [],
   "source": [
    "# combine alcohol consumption columns into a single feature\n",
    "def combine_alcohol(row):\n",
    "    if row['Daily Alcohol Consumption'] == 1:\n",
    "        return 5\n",
    "    elif row['Three or Four Times a week Alcohol Consumption'] == 1:\n",
    "        return 4\n",
    "    elif row['Once or Twice a Week Alcohol Consumption'] == 1:\n",
    "        return 3\n",
    "    elif row['One to Three Times a Month Alcohol Consumption'] == 1:\n",
    "        return 2\n",
    "    elif row['Occasional Alcohol Consumption'] == 1:\n",
    "        return 1\n",
    "    elif row['No Alcohol Consumption'] == 1:\n",
    "        return 0\n",
    "    else:  # unknown\n",
    "        return -1  # missing value marker\n",
    "\n",
    "data['Alcohol_Consumption'] = data.apply(combine_alcohol, axis=1)"
   ]
  },
  {
   "cell_type": "code",
   "execution_count": 175,
   "metadata": {},
   "outputs": [],
   "source": [
    "# physical activity feature\n",
    "data['Physical_Activity'] = data['Number of Days of Physical Activity'].fillna(-1)"
   ]
  },
  {
   "cell_type": "code",
   "execution_count": 176,
   "metadata": {},
   "outputs": [],
   "source": [
    "# family history feature \n",
    "data['Family_History'] = (\n",
    "    (data['Father has Bowel Cancer'] == 1) | \n",
    "    (data['Father has Diabetes'] == 1) | \n",
    "    (data['Mother has Bowel Cancer'] == 1) | \n",
    "    (data['Mother has Diabetes'] == 1)\n",
    ").astype(int)"
   ]
  },
  {
   "cell_type": "code",
   "execution_count": 177,
   "metadata": {},
   "outputs": [
    {
     "name": "stdout",
     "output_type": "stream",
     "text": [
      "    Age    BMI  Female  Male  Current Smoker  Former Smoker  Never Smoker  \\\n",
      "0  60.0  34.31     0.0   1.0             0.0            0.0           1.0   \n",
      "1  54.0  22.62     1.0   0.0             0.0            0.0           1.0   \n",
      "2  64.0  23.18     1.0   0.0             0.0            0.0           1.0   \n",
      "3  47.0  23.54     0.0   1.0             0.0            0.0           1.0   \n",
      "5  68.0  24.65     1.0   0.0             0.0            0.0           1.0   \n",
      "\n",
      "   Unknown Smoking Status  Death of Family Member  \\\n",
      "0                     0.0                     1.0   \n",
      "1                     0.0                     1.0   \n",
      "2                     0.0                     0.0   \n",
      "3                     0.0                     0.0   \n",
      "5                     0.0                     1.0   \n",
      "\n",
      "   Serious illness, injury or assault to yourself  ...  \\\n",
      "0                                             0.0  ...   \n",
      "1                                             0.0  ...   \n",
      "2                                             0.0  ...   \n",
      "3                                             0.0  ...   \n",
      "5                                             0.0  ...   \n",
      "\n",
      "   Not Answered Physical Activity Status  Father has Bowel Cancer  \\\n",
      "0                                    0.0                      0.0   \n",
      "1                                    0.0                      0.0   \n",
      "2                                    0.0                      0.0   \n",
      "3                                    0.0                      0.0   \n",
      "5                                    0.0                      0.0   \n",
      "\n",
      "   Father has Diabetes  Mother has Bowel Cancer  Mother has Diabetes  \\\n",
      "0                  0.0                      1.0                  0.0   \n",
      "1                  1.0                      0.0                  0.0   \n",
      "2                  0.0                      0.0                  0.0   \n",
      "3                  0.0                      0.0                  0.0   \n",
      "5                  0.0                      0.0                  0.0   \n",
      "\n",
      "   Smoking_Status  Stress  Alcohol_Consumption  Physical_Activity  \\\n",
      "0               1       1                    0                0.0   \n",
      "1               1       1                    2                0.0   \n",
      "2               1       0                    4                5.0   \n",
      "3               1       0                    3                3.0   \n",
      "5               1       1                    3                3.0   \n",
      "\n",
      "   Family_History  \n",
      "0               1  \n",
      "1               1  \n",
      "2               0  \n",
      "3               0  \n",
      "5               0  \n",
      "\n",
      "[5 rows x 35 columns]\n"
     ]
    }
   ],
   "source": [
    "# verify features\n",
    "print(data.head())"
   ]
  },
  {
   "cell_type": "code",
   "execution_count": 178,
   "metadata": {},
   "outputs": [],
   "source": [
    "# combine male and female into a single gender feature\n",
    "data['Gender'] = data['Male'].astype(int)  # male as 1, female as 0\n",
    "data = data.drop(columns=['Male', 'Female'])  # drop the original columns"
   ]
  },
  {
   "cell_type": "code",
   "execution_count": 179,
   "metadata": {},
   "outputs": [
    {
     "name": "stdout",
     "output_type": "stream",
     "text": [
      "    Age    BMI  Gender  Smoking_Status  Stress  Alcohol_Consumption  \\\n",
      "0  60.0  34.31       1               1       1                    0   \n",
      "1  54.0  22.62       0               1       1                    2   \n",
      "2  64.0  23.18       0               1       0                    4   \n",
      "3  47.0  23.54       1               1       0                    3   \n",
      "5  68.0  24.65       0               1       1                    3   \n",
      "\n",
      "   Physical_Activity  Family_History  \n",
      "0                0.0               1  \n",
      "1                0.0               1  \n",
      "2                5.0               0  \n",
      "3                3.0               0  \n",
      "5                3.0               0  \n"
     ]
    }
   ],
   "source": [
    "combined_features = ['Age', 'BMI', 'Gender', 'Smoking_Status', 'Stress', 'Alcohol_Consumption', \n",
    "                     'Physical_Activity', 'Family_History']\n",
    "data = data[combined_features]\n",
    "\n",
    "# verify features\n",
    "print(data.head())"
   ]
  },
  {
   "cell_type": "code",
   "execution_count": 180,
   "metadata": {},
   "outputs": [
    {
     "name": "stdout",
     "output_type": "stream",
     "text": [
      "        Age       BMI  Gender  Smoking_Status  Stress  Alcohol_Consumption  \\\n",
      "0  0.628571  0.354699     1.0        0.333333     1.0             0.166667   \n",
      "1  0.457143  0.167839     0.0        0.333333     1.0             0.500000   \n",
      "2  0.742857  0.176790     0.0        0.333333     0.0             0.833333   \n",
      "3  0.257143  0.182545     1.0        0.333333     0.0             0.666667   \n",
      "5  0.857143  0.200288     0.0        0.333333     1.0             0.666667   \n",
      "\n",
      "   Physical_Activity  Family_History  \n",
      "0           0.000000             1.0  \n",
      "1           0.000000             1.0  \n",
      "2           0.714286             0.0  \n",
      "3           0.428571             0.0  \n",
      "5           0.428571             0.0  \n"
     ]
    }
   ],
   "source": [
    "# scale features\n",
    "scaler = MinMaxScaler()\n",
    "data[combined_features] = scaler.fit_transform(data[combined_features])\n",
    "print(data.head())"
   ]
  },
  {
   "cell_type": "markdown",
   "metadata": {},
   "source": [
    "## K-means"
   ]
  },
  {
   "cell_type": "code",
   "execution_count": 181,
   "metadata": {},
   "outputs": [
    {
     "data": {
      "image/png": "[encoded data removed]",
      "text/plain": [
       "<Figure size 640x480 with 1 Axes>"
      ]
     },
     "metadata": {},
     "output_type": "display_data"
    }
   ],
   "source": [
    "# get optimal number of clusters \n",
    "inertias = []\n",
    "\n",
    "for i in range(1,11):\n",
    "    kmeans = KMeans(n_clusters=i)\n",
    "    kmeans.fit(data)\n",
    "    inertias.append(kmeans.inertia_)\n",
    "\n",
    "plt.plot(range(1,11), inertias, marker='o')\n",
    "plt.title('Elbow method')\n",
    "plt.xlabel('Number of clusters')\n",
    "plt.ylabel('Inertia')\n",
    "plt.savefig('elbow_plot.png')\n",
    "plt.show()"
   ]
  },
  {
   "cell_type": "code",
   "execution_count": 182,
   "metadata": {},
   "outputs": [],
   "source": [
    "# Reduce to 2 dimensions\n",
    "pca = PCA(n_components=2)\n",
    "X_pca = pca.fit_transform(data)\n",
    "x = X_pca[:, 0]  # First principal component\n",
    "y = X_pca[:, 1]  # Second principal component"
   ]
  },
  {
   "cell_type": "code",
   "execution_count": 183,
   "metadata": {},
   "outputs": [
    {
     "data": {
      "image/png": "[encoded data removed]",
      "text/plain": [
       "<Figure size 640x480 with 2 Axes>"
      ]
     },
     "metadata": {},
     "output_type": "display_data"
    }
   ],
   "source": [
    "kmeans = KMeans(n_clusters=4)\n",
    "kmeans.fit(data)\n",
    "data['Cluster'] = kmeans.fit_predict(data)  # Add cluster labels to the dataset\n",
    "\n",
    "plt.scatter(x, y, c=kmeans.labels_, cmap='viridis', s=10, alpha=0.7)\n",
    "plt.title('K-Means Clustering Visualization')\n",
    "plt.xlabel('PCA Component 1')\n",
    "plt.ylabel('PCA Component 2')\n",
    "plt.colorbar(label='Cluster')\n",
    "plt.savefig('cluster_plot.png')\n",
    "plt.show()"
   ]
  },
  {
   "cell_type": "code",
   "execution_count": 184,
   "metadata": {},
   "outputs": [
    {
     "name": "stdout",
     "output_type": "stream",
     "text": [
      "              Age       BMI  Gender  Smoking_Status    Stress  \\\n",
      "Cluster                                                         \n",
      "0        0.509498  0.245325     0.0        0.508696  1.000000   \n",
      "1        0.546580  0.242517     0.0        0.486701  0.000000   \n",
      "2        0.553714  0.230814     0.0        0.488460  0.000000   \n",
      "3        0.545501  0.251459     1.0        0.541932  0.417346   \n",
      "\n",
      "         Alcohol_Consumption  Physical_Activity  Family_History  \n",
      "Cluster                                                          \n",
      "0                   0.637333           0.232569        0.261270  \n",
      "1                   0.643732           0.236472        1.000000  \n",
      "2                   0.660190           0.238773        0.000000  \n",
      "3                   0.736630           0.288865        0.238244  \n"
     ]
    }
   ],
   "source": [
    "# get cluster summary\n",
    "cluster_summary = data.groupby('Cluster').mean()\n",
    "print(cluster_summary)"
   ]
  },
  {
   "cell_type": "markdown",
   "metadata": {},
   "source": [
    "## SOM Implementation"
   ]
  }
 ],
 "metadata": {
  "kernelspec": {
   "display_name": "Python 3",
   "language": "python",
   "name": "python3"
  },
  "language_info": {
   "codemirror_mode": {
    "name": "ipython",
    "version": 3
   },
   "file_extension": ".py",
   "mimetype": "text/x-python",
   "name": "python",
   "nbconvert_exporter": "python",
   "pygments_lexer": "ipython3",
   "version": "3.10.9"
  }
 },
 "nbformat": 4,
 "nbformat_minor": 2
}
